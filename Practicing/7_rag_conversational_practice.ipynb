{
 "cells": [
  {
   "cell_type": "code",
   "execution_count": 1,
   "metadata": {},
   "outputs": [
    {
     "name": "stderr",
     "output_type": "stream",
     "text": [
      "e:\\Ananconda\\envs\\lc_env\\lib\\site-packages\\tqdm\\auto.py:21: TqdmWarning: IProgress not found. Please update jupyter and ipywidgets. See https://ipywidgets.readthedocs.io/en/stable/user_install.html\n",
      "  from .autonotebook import tqdm as notebook_tqdm\n"
     ]
    }
   ],
   "source": [
    "import os\n",
    "from dotenv import load_dotenv\n",
    "\n",
    "from langchain.document_loaders import PyMuPDFLoader\n",
    "from langchain.text_splitter import RecursiveCharacterTextSplitter\n",
    "from langchain.vectorstores import Chroma\n",
    "from langchain.chains import create_history_aware_retriever , create_retrieval_chain\n",
    "from langchain.chains.combine_documents import create_stuff_documents_chain\n",
    "from langchain_core.prompts import ChatPromptTemplate , MessagesPlaceholder\n",
    "from langchain_core.messages import HumanMessage , AIMessage\n",
    "from langchain_google_genai import ChatGoogleGenerativeAI , GoogleGenerativeAIEmbeddings"
   ]
  },
  {
   "cell_type": "code",
   "execution_count": 2,
   "metadata": {},
   "outputs": [],
   "source": [
    "load_dotenv()\n",
    "\n",
    "embeddings = GoogleGenerativeAIEmbeddings(model=\"models/text-embedding-004\")\n",
    "llm = ChatGoogleGenerativeAI(model=\"gemini-1.5-flash\")"
   ]
  },
  {
   "cell_type": "code",
   "execution_count": 3,
   "metadata": {},
   "outputs": [
    {
     "name": "stdout",
     "output_type": "stream",
     "text": [
      "current_dir c:\\Users\\HP\\Desktop\\langchain-crash-course\\Practicing\n",
      "book_dir c:\\Users\\HP\\Desktop\\langchain-crash-course\\Practicing\\Books\n",
      "db_dir c:\\Users\\HP\\Desktop\\langchain-crash-course\\Practicing\\db\\all_pdfs\n"
     ]
    }
   ],
   "source": [
    "current_dir = current_dir = os.getcwd()\n",
    "book_dir = os.path.join(current_dir , 'Books')\n",
    "db_dir = os.path.join(current_dir , 'db' , 'all_pdfs')\n",
    "\n",
    "print('current_dir' , current_dir)\n",
    "print('book_dir' , book_dir)\n",
    "print('db_dir' , db_dir)"
   ]
  },
  {
   "cell_type": "code",
   "execution_count": 4,
   "metadata": {},
   "outputs": [],
   "source": [
    "# making vector db\n",
    "\n",
    "books = [os.path.join(current_dir ,'Books' , book) for book in os.listdir(book_dir) if book.endswith('.pdf')]\n",
    "\n",
    "book_documents = []\n",
    "\n",
    "for book in books:\n",
    "    loader = PyMuPDFLoader(book)\n",
    "    docs = loader.load()\n",
    "\n",
    "    for document in docs:\n",
    "        document.metadata = {'source':book}\n",
    "        book_documents.append(document)\n",
    "\n",
    "splitter = RecursiveCharacterTextSplitter(chunk_size=1000 , chunk_overlap= 200)\n",
    "docs = splitter.split_documents(book_documents)"
   ]
  },
  {
   "cell_type": "code",
   "execution_count": 5,
   "metadata": {},
   "outputs": [],
   "source": [
    "# now making the embeddings and storing it into vector store (chroma)\n",
    "db = Chroma.from_documents(\n",
    "    documents=docs , embedding=embeddings, persist_directory=db_dir\n",
    ")"
   ]
  },
  {
   "cell_type": "code",
   "execution_count": 6,
   "metadata": {},
   "outputs": [],
   "source": [
    "# before using the retriever you must have to define the retriever\n",
    "retriever = db.as_retriever(\n",
    "    search_type='mmr',\n",
    "    search_kwargs={'k':3 , 'fetch_k' : 20 , 'lambda_mult':0.5}\n",
    ")"
   ]
  },
  {
   "cell_type": "code",
   "execution_count": 7,
   "metadata": {},
   "outputs": [],
   "source": [
    "# making history\n",
    "\n",
    "history_aware_system_prompt = (\"You are a assistant for question answering task \"\n",
    "                 \"You will be given a chat history and a human query, \"\n",
    "                 \"You have to make the huamn query revelent to the \"\n",
    "                 \"chat history by seeing that which chat history \"\n",
    "                 \"is the most relevent to the chat history and \"\n",
    "                 \"modify the human query in such a way that it \"\n",
    "                 \"become more meaningfull and human query lastly \"\n",
    "                 \"become standalone, if the message does not relate to \"\n",
    "                 \"chat history then return the message as it is\")\n",
    "\n",
    "\n",
    "history_aware_prompt=ChatPromptTemplate.from_messages(\n",
    "    [\n",
    "        ('system' , history_aware_system_prompt),\n",
    "        MessagesPlaceholder('history'),\n",
    "        ('human' , \"{input}\")\n",
    "    ]\n",
    ")\n",
    "\n",
    "history_aware_retriever= create_history_aware_retriever(\n",
    "    llm , retriever , history_aware_prompt\n",
    ")"
   ]
  },
  {
   "cell_type": "code",
   "execution_count": 20,
   "metadata": {},
   "outputs": [],
   "source": [
    "stuff_document_system_prompt=(\"You are a helpfull assistant, you will recieve \"\n",
    "                              \"some documents and based on those documents answer \"\n",
    "                              \"the question in a very concise manner, answer should be \"\n",
    "                              \"under 4 sentences. If you don't now the answer or the context \"\n",
    "                              \"is empty just say i don't now the answer  \\n\\n\"\n",
    "                              \"{context}\")\n",
    "\n",
    "# the context is a place holder for the retireved information from the vector database\n",
    "\n",
    "question_answer_prompt = ChatPromptTemplate.from_messages(\n",
    "    [\n",
    "        ('system',stuff_document_system_prompt),\n",
    "        MessagesPlaceholder('history'),\n",
    "        ('human','{input}')\n",
    "    ]\n",
    ")\n",
    "\n",
    "question_answer_chain= create_stuff_documents_chain(llm, question_answer_prompt)"
   ]
  },
  {
   "cell_type": "code",
   "execution_count": 21,
   "metadata": {},
   "outputs": [],
   "source": [
    "chain = create_retrieval_chain(history_aware_retriever , question_answer_chain)"
   ]
  },
  {
   "cell_type": "code",
   "execution_count": 22,
   "metadata": {},
   "outputs": [],
   "source": [
    "def chat_with_documents():\n",
    "    chat_history=[]\n",
    "    print('Chat started with AI, type \"exit\" to exit the chat')\n",
    "    while True:\n",
    "        user_prompt = input('User: ')\n",
    "        if user_prompt.lower() == 'exit':\n",
    "            break\n",
    "        result = chain.invoke({\"input\":user_prompt , \"history\":chat_history})\n",
    "        print(f\"User: {user_prompt}\")\n",
    "        print(f\"AI: {result['answer']}\")\n",
    "\n",
    "        chat_history.append(HumanMessage(user_prompt))\n",
    "        chat_history.append(AIMessage(content=result['answer']))"
   ]
  },
  {
   "cell_type": "code",
   "execution_count": 23,
   "metadata": {},
   "outputs": [
    {
     "name": "stdout",
     "output_type": "stream",
     "text": [
      "Chat started with AI, type \"exit\" to exit the chat\n",
      "User: tell me about remo and juliet\n",
      "AI: I don't know the answer. The provided text is about Renuka's love for books and doesn't mention anything about Remo and Juliet. \n",
      "\n",
      "User: what is the benifit of living alone\n",
      "AI: The provided text highlights several benefits of living alone:\n",
      "\n",
      "* **Self-discovery:** It allows for introspection, understanding your own thoughts, preferences, and reactions without external influence.\n",
      "* **Freedom and autonomy:** You are free to make choices and pursue activities without needing to consider others' opinions or expectations.\n",
      "* **Personal growth:** It forces you to become more independent and confident in your decisions, fostering self-reliance.\n",
      "* **Connection with your true self:** It provides a space to listen to your inner voice and discover your true desires without external manipulation. \n",
      "\n",
      "User: how to master your emotions\n",
      "AI: The provided text offers insights on mastering emotions:\n",
      "\n",
      "* **Accept their transient nature:** Recognize that emotions come and go, and avoid attaching a strong identity to them.\n",
      "* **Let them pass without judgment:** Allow yourself to feel emotions without labeling them as \"good\" or \"bad\" or trying to suppress them.\n",
      "* **Condition your mind for positivity:** Practice positive thinking and engage in activities that promote positive emotions.\n",
      "* **Use your behaviors to change emotions:**  Take action to shift your emotional state, such as engaging in physical activity or spending time in nature.\n",
      "* **Overcome negative emotions:** Learn to identify and address negative emotions that control your life.\n",
      "\n",
      "The text emphasizes the importance of understanding the nature of emotions and developing a conscious approach to managing them. \n",
      "\n",
      "User: so why do not people live alone if there is so much benifits of living alone\n",
      "AI: The provided text acknowledges the benefits of living alone but also explains why many people choose not to:\n",
      "\n",
      "* **Social conditioning:** We are raised in a society that values connection and interaction, making the idea of solitude seem unnatural or even undesirable.\n",
      "* **Fear of loneliness:** We fear being alone and interpret it as a sign of failure or inadequacy.\n",
      "* **Need for validation:** We are constantly seeking external validation and approval, making it difficult to feel comfortable without the presence of others.\n",
      "* **Designed for connection:** Social media platforms and other companies capitalize on our need for connection, trapping us in a cycle of seeking validation and approval. \n",
      "\n",
      "The text suggests that societal pressures and our own insecurities often outweigh the potential benefits of living alone. \n",
      "\n",
      "User: so why people not live alone \n",
      "AI: The text highlights several reasons why people might not choose to live alone, even though there are benefits:\n",
      "\n",
      "* **Social Conditioning:**  Society often emphasizes the importance of social connections and relationships, making the idea of living alone seem unusual or even undesirable.\n",
      "* **Fear of Loneliness:**  Many people associate living alone with loneliness and fear that they won't be able to cope with the lack of constant companionship.\n",
      "* **Need for Validation:** We are often conditioned to seek validation and approval from others, making it difficult to feel comfortable or confident without the presence of others.\n",
      "* **Designed for Connection:** Social media and various companies exploit our innate need for connection, keeping us constantly seeking validation and approval, making it harder to embrace solitude.\n",
      "\n",
      "In essence, the fear of loneliness, societal pressure, and a dependence on external validation often outweigh the potential benefits of living alone. \n",
      "\n"
     ]
    }
   ],
   "source": [
    "chat_with_documents()"
   ]
  },
  {
   "cell_type": "code",
   "execution_count": null,
   "metadata": {},
   "outputs": [],
   "source": []
  }
 ],
 "metadata": {
  "kernelspec": {
   "display_name": "lc_env",
   "language": "python",
   "name": "python3"
  },
  "language_info": {
   "codemirror_mode": {
    "name": "ipython",
    "version": 3
   },
   "file_extension": ".py",
   "mimetype": "text/x-python",
   "name": "python",
   "nbconvert_exporter": "python",
   "pygments_lexer": "ipython3",
   "version": "3.10.4"
  }
 },
 "nbformat": 4,
 "nbformat_minor": 2
}
